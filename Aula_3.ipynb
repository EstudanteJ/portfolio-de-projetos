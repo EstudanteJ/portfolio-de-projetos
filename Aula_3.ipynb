{
  "nbformat": 4,
  "nbformat_minor": 0,
  "metadata": {
    "colab": {
      "provenance": [],
      "authorship_tag": "ABX9TyNnRqwzXwqGxFD4RNUcgMsd",
      "include_colab_link": true
    },
    "kernelspec": {
      "name": "python3",
      "display_name": "Python 3"
    },
    "language_info": {
      "name": "python"
    }
  },
  "cells": [
    {
      "cell_type": "markdown",
      "metadata": {
        "id": "view-in-github",
        "colab_type": "text"
      },
      "source": [
        "<a href=\"https://colab.research.google.com/github/EstudanteJ/portfolio-de-projetos/blob/main/Aula_3.ipynb\" target=\"_parent\"><img src=\"https://colab.research.google.com/assets/colab-badge.svg\" alt=\"Open In Colab\"/></a>"
      ]
    },
    {
      "cell_type": "code",
      "execution_count": null,
      "metadata": {
        "id": "lkkQCtdjBIos"
      },
      "outputs": [],
      "source": [
        "total_figurinhas = int(input(\"Digite o total de figurinhas: \"))\n",
        "numero_amigos = int(input(\"Digite o número de amigos: \"))\n",
        "\n",
        "figurinhas_amigos = total_figurinhas // (numero_amigos + 2)\n",
        "figurinhas_joao = 2 * figurinhas_amigos\n",
        "figutinhas_restantes = total_figurinhas - figurinhas_joao - (numero_amigos * figurinhas_amigos)\n",
        "\n",
        "print('')\n",
        "print(f\"cada amigo de João recebeu: (figurinhas_amigos) figurinhas.\")\n",
        "print(f\"joao recebeu: {figurinhas_joao} figurinhas.\")\n",
        "print(f\"figurinhas restantes: {figurinhas_restantes} figurinhas.\")\n",
        "\n",
        "figurinhas_amigos = total_figurinhas // (numero_amigos + 2)\n",
        "figurinhas_joao = 2 * figurinhas_amigos\n",
        "figutinhas_restantes = figurinhas_restantes - figurinhas_joao - (numero_amigos * figurinhas_amigos)\n",
        "figurinhas_joao = figurinhas_joao = figurinhas_restantes\n",
        "figurinhas_restantes = 0\n",
        "\n",
        "print('')\n",
        "print(f\"cada amigo de João recebeu: (figurinhas_amigos) figurinhas.\")\n",
        "print(f\"joao recebeu: {figurinhas_joao} figurinhas.\")\n",
        "print(f\"figurinhas restantes: {figurinhas_restantes} figurinhas.\")"
      ]
    }
  ]
}